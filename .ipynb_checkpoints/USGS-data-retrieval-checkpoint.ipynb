{
 "cells": [
  {
   "cell_type": "markdown",
   "metadata": {},
   "source": [
    "# USGS data retriever"
   ]
  },
  {
   "cell_type": "markdown",
   "metadata": {},
   "source": []
  },
  {
   "cell_type": "code",
   "execution_count": null,
   "metadata": {
    "ExecuteTime": {
     "start_time": "2019-03-05T23:21:00.500Z"
    }
   },
   "outputs": [
    {
     "name": "stderr",
     "output_type": "stream",
     "text": [
      "Installing package into ‘/Users/shua784/Library/R/3.5/library’\n",
      "(as ‘lib’ is unspecified)\n",
      "also installing the dependencies ‘pillar’, ‘rlang’, ‘purrr’, ‘pkgconfig’, ‘Rcpp’, ‘tibble’, ‘tidyselect’, ‘plogr’, ‘hms’, ‘lubridate’, ‘dplyr’, ‘xml2’, ‘readr’\n",
      "\n"
     ]
    }
   ],
   "source": [
    "install.packages(\"dataRetrieval\", repos=c(\"http://owi.usgs.gov/R\",getOption(\"repos\")))"
   ]
  },
  {
   "cell_type": "code",
   "execution_count": null,
   "metadata": {},
   "outputs": [],
   "source": []
  }
 ],
 "metadata": {
  "kernelspec": {
   "display_name": "R",
   "language": "R",
   "name": "ir"
  },
  "language_info": {
   "codemirror_mode": "r",
   "file_extension": ".r",
   "mimetype": "text/x-r-source",
   "name": "R",
   "pygments_lexer": "r",
   "version": "3.5.1"
  },
  "toc": {
   "base_numbering": 1,
   "nav_menu": {},
   "number_sections": true,
   "sideBar": true,
   "skip_h1_title": false,
   "title_cell": "Table of Contents",
   "title_sidebar": "Contents",
   "toc_cell": false,
   "toc_position": {},
   "toc_section_display": true,
   "toc_window_display": false
  }
 },
 "nbformat": 4,
 "nbformat_minor": 2
}
